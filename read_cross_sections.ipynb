{
 "cells": [
  {
   "cell_type": "code",
   "execution_count": 1,
   "id": "3d11089b-4ca4-41a0-9971-6f0bd0cc3091",
   "metadata": {
    "tags": []
   },
   "outputs": [],
   "source": [
    "import numpy as np;\n",
    "import matplotlib.pyplot as plt;\n",
    "import pickle;\n",
    "import scipy.special;"
   ]
  },
  {
   "cell_type": "markdown",
   "id": "564b4281-c085-45db-9a06-b94d07f5eb9d",
   "metadata": {},
   "source": [
    "# Read data from pickle"
   ]
  },
  {
   "cell_type": "code",
   "execution_count": 4,
   "id": "be9969f6-2b8c-4871-8c3d-679856cd884e",
   "metadata": {
    "tags": []
   },
   "outputs": [],
   "source": [
    "prefix = \"data/v5_\"\n",
    "n = \"3\"\n",
    "\n",
    "file = open(prefix + \"etheta_\" + n + \".pkl\", \"rb\");\n",
    "xsdata=pickle.load(file);\n",
    "#print(\"Loaded \",len(xsdata),\"data sets\");\n",
    "\n",
    "file = open(prefix + \"xsdata_\" + n +\".pkl\", \"rb\");\n",
    "info=pickle.load(file);\n",
    "#print(info);\n",
    "\n",
    "file = open(prefix + \"info_\" + n + \".pkl\", \"rb\");\n",
    "etheta=pickle.load(file);\n",
    "#print(etheta);\n"
   ]
  },
  {
   "cell_type": "markdown",
   "id": "b11b9c1b-82d3-48e6-9dd3-f6d27f6cb035",
   "metadata": {},
   "source": [
    "# Look at some of the data"
   ]
  },
  {
   "cell_type": "code",
   "execution_count": 5,
   "id": "4ea22cce-38b6-4d75-a482-3cd92f179899",
   "metadata": {
    "tags": []
   },
   "outputs": [
    {
     "name": "stdout",
     "output_type": "stream",
     "text": [
      "[[-0.7993 -0.7935 -0.905  ... -0.1242 -0.2141 -0.2896]\n",
      " [-0.849  -0.841  -0.948  ... -0.1252 -0.2161 -0.2922]\n",
      " [-0.8975 -0.888  -0.9917 ... -0.1262 -0.2181 -0.2952]\n",
      " ...\n",
      " [-0.756  -0.6284  0.3396 ...  4.29    3.67    3.037 ]\n",
      " [-0.7705 -0.607   0.3765 ...  4.324   3.71    3.086 ]\n",
      " [-0.7964 -0.587   0.4187 ...  4.363   3.758   3.14  ]]\n"
     ]
    },
    {
     "ename": "TypeError",
     "evalue": "list indices must be integers or slices, not str",
     "output_type": "error",
     "traceback": [
      "\u001b[31m---------------------------------------------------------------------------\u001b[39m",
      "\u001b[31mTypeError\u001b[39m                                 Traceback (most recent call last)",
      "\u001b[36mCell\u001b[39m\u001b[36m \u001b[39m\u001b[32mIn[5]\u001b[39m\u001b[32m, line 7\u001b[39m\n\u001b[32m      2\u001b[39m \u001b[38;5;28mprint\u001b[39m(info[index]);\n\u001b[32m      4\u001b[39m \u001b[38;5;66;03m# The following for plotting purposes only\u001b[39;00m\n\u001b[32m      5\u001b[39m \n\u001b[32m      6\u001b[39m \u001b[38;5;66;03m# Creating plot\u001b[39;00m\n\u001b[32m----> \u001b[39m\u001b[32m7\u001b[39m e     = \u001b[43metheta\u001b[49m\u001b[43m[\u001b[49m\u001b[33;43m\"\u001b[39;49m\u001b[33;43mE\u001b[39;49m\u001b[33;43m\"\u001b[39;49m\u001b[43m]\u001b[49m;\n\u001b[32m      8\u001b[39m theta = etheta[\u001b[33m\"\u001b[39m\u001b[33mtheta\u001b[39m\u001b[33m\"\u001b[39m];\n\u001b[32m      9\u001b[39m xs    = xsdata[index];\n",
      "\u001b[31mTypeError\u001b[39m: list indices must be integers or slices, not str"
     ]
    }
   ],
   "source": [
    "for index in range(1) : #len(info)) :\n",
    "    print(info[index]);\n",
    "    \n",
    "    # The following for plotting purposes only\n",
    "    \n",
    "    # Creating plot\n",
    "    e     = etheta[\"E\"];\n",
    "    theta = etheta[\"theta\"];\n",
    "    xs    = xsdata[index];\n",
    "    \n",
    "    # Adjust for wireframe plotting\n",
    "    \n",
    "    theta_grid, e_grid = np.meshgrid(theta,e);\n",
    "    print(e_grid.shape);\n",
    "    print(e_grid);\n",
    "    print(theta_grid);\n",
    "\n",
    "    legendre_grid = scipy.special.eval_legendre(0,np.cos(theta_grid))**2;\n",
    "\n",
    "    #print(legendre_grid.shape)\n",
    "    #print(legendre_grid);\n",
    "    \n",
    "    \n",
    "    xs_grid = np.reshape(xs,e_grid.shape)/legendre_grid;\n",
    "    \n",
    "    # Creating figure\n",
    "    fig = plt.figure(figsize = (10, 7))\n",
    "    ax = plt.axes(projection =\"3d\");\n",
    "    ax.plot_wireframe(theta_grid,e_grid,xs_grid, color = \"red\")\n",
    "    plt.title(\"N_res=\"+str(np.round(info[index][\"n_res\"],3)));\n",
    "    ax.view_init(30, 60)\n",
    "    plt.show()\n",
    "\n",
    "    print(xs.shape)\n",
    "    print(legendre_grid.shape);\n",
    "    \n",
    "    fig = plt.figure(figsize = (10, 7))\n",
    "    plt.title(\"N_res=\"+str(np.round(info[index][\"n_res\"],3)));\n",
    "    plt.imshow(xs/legendre_grid,aspect='auto');\n",
    "plt.show();\n"
   ]
  },
  {
   "cell_type": "code",
   "execution_count": null,
   "id": "5bd8adbf-50b5-4214-bee5-cfe485574bbc",
   "metadata": {},
   "outputs": [],
   "source": []
  },
  {
   "cell_type": "code",
   "execution_count": null,
   "id": "fd0714e7-f58a-4f30-b306-ccf60cf1af1f",
   "metadata": {},
   "outputs": [],
   "source": []
  },
  {
   "cell_type": "code",
   "execution_count": null,
   "id": "6f224073-b00e-4e89-944b-b2039800a2d9",
   "metadata": {},
   "outputs": [],
   "source": []
  },
  {
   "cell_type": "code",
   "execution_count": null,
   "id": "61543f89-6987-4dd9-a11d-48e00a65caa8",
   "metadata": {},
   "outputs": [],
   "source": []
  }
 ],
 "metadata": {
  "kernelspec": {
   "display_name": "Python 3 (ipykernel)",
   "language": "python",
   "name": "python3"
  },
  "language_info": {
   "codemirror_mode": {
    "name": "ipython",
    "version": 3
   },
   "file_extension": ".py",
   "mimetype": "text/x-python",
   "name": "python",
   "nbconvert_exporter": "python",
   "pygments_lexer": "ipython3",
   "version": "3.12.3"
  }
 },
 "nbformat": 4,
 "nbformat_minor": 5
}
