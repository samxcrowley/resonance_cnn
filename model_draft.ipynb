{
 "cells": [
  {
   "cell_type": "code",
   "execution_count": 42,
   "id": "65c8879c-3599-4235-9555-1d6531962a95",
   "metadata": {},
   "outputs": [
    {
     "name": "stdout",
     "output_type": "stream",
     "text": [
      "Using device: cpu\n"
     ]
    }
   ],
   "source": [
    "import gzip\n",
    "import numpy as np\n",
    "import matplotlib.pyplot as plt\n",
    "import plotly.graph_objects as go\n",
    "import plotly.io as pio\n",
    "import pandas as pd\n",
    "import torch\n",
    "import torch.nn as nn\n",
    "import torch.nn.functional as F\n",
    "import json\n",
    "from torch.utils.data import DataLoader, Dataset\n",
    "from sklearn.metrics import r2_score\n",
    "from sklearn.metrics import accuracy_score\n",
    "from sklearn.metrics import confusion_matrix, classification_report\n",
    "\n",
    "device = torch.device('cuda' if torch.cuda.is_available() else 'cpu')\n",
    "print(f'Using device: {device}')"
   ]
  },
  {
   "cell_type": "code",
   "execution_count": 8,
   "id": "658a66e3-e292-4b83-b078-cc597e84d03a",
   "metadata": {},
   "outputs": [],
   "source": [
    "class ResonanceDataset(Dataset):\n",
    "\n",
    "    def __init__(self, images, targets):\n",
    "\n",
    "        # store cross-sectional value as a function of (E, theta)\n",
    "        self.images = images # shape: (num_samples, 1, num_theta, num_E)\n",
    "\n",
    "        # targets stores a set of resonance data for each sample\n",
    "        # consists of: energy, width (Gamma), dominant l\n",
    "        self.targets = targets # shape: (num_samples, 3)\n",
    "\n",
    "    def __len__(self):\n",
    "        return len(self.images)\n",
    "\n",
    "    def __getitem__(self, idx):\n",
    "        \n",
    "        image = self.images[idx]\n",
    "        target = {key: val[idx] for key, val in self.targets.items()}\n",
    "\n",
    "        return image, target"
   ]
  },
  {
   "cell_type": "code",
   "execution_count": 38,
   "id": "f93a71d4-adcb-4f0f-85c3-2ad3aa01bb9e",
   "metadata": {},
   "outputs": [],
   "source": [
    "def load_images(train_path):\n",
    "    \n",
    "    with open(train_path, 'r') as f:\n",
    "        data = json.load(f)\n",
    "    \n",
    "    n = len(data)\n",
    "    \n",
    "    for i in range(n):\n",
    "    \n",
    "        levels = data[i]['levels'][0]\n",
    "        observable_sets = data[i]['observable_sets']\n",
    "    \n",
    "        if i != 0:\n",
    "            continue\n",
    "    \n",
    "        pp_in_index = observable_sets[0]['pp_in_index']\n",
    "        pp_out_index = observable_sets[0]['pp_out_index']\n",
    "        points = observable_sets[0]['points'][0]"
   ]
  }
 ],
 "metadata": {
  "kernelspec": {
   "display_name": "Python 3 (ipykernel)",
   "language": "python",
   "name": "python3"
  },
  "language_info": {
   "codemirror_mode": {
    "name": "ipython",
    "version": 3
   },
   "file_extension": ".py",
   "mimetype": "text/x-python",
   "name": "python",
   "nbconvert_exporter": "python",
   "pygments_lexer": "ipython3",
   "version": "3.12.3"
  }
 },
 "nbformat": 4,
 "nbformat_minor": 5
}
